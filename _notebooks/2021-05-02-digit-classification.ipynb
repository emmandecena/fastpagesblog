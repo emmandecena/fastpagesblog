{
 "cells": [
  {
   "cell_type": "markdown",
   "id": "40d4a8d7",
   "metadata": {},
   "source": [
    "# MNIST Classificaton \n",
    "> A demonstration of classification technique\n",
    "\n",
    "- toc: false\n",
    "- comments: true\n",
    "- categories: [classification]\n",
    "- hide: false"
   ]
  },
  {
   "cell_type": "code",
   "execution_count": null,
   "id": "62c873e0-2d0c-40f9-ac44-552b4b7ad113",
   "metadata": {},
   "outputs": [],
   "source": [
    "from sklearn.datasets import fetch_openml"
   ]
  },
  {
   "cell_type": "code",
   "execution_count": null,
   "id": "cd9ffbac",
   "metadata": {},
   "outputs": [],
   "source": [
    "\n",
    "mnist = fetch_openml('mnist_784', version=1)\n",
    "mnist.keys()"
   ]
  },
  {
   "cell_type": "code",
   "execution_count": null,
   "id": "16ed692b-5feb-42bb-a50e-464abf85df5c",
   "metadata": {},
   "outputs": [],
   "source": [
    "X, y = mnist[\"data\"], mnist[\"target\"]\n",
    "X.shape\n",
    "y.shape\n"
   ]
  },
  {
   "cell_type": "code",
   "execution_count": null,
   "id": "0d73536f-b6a0-4978-8406-2a5d8c6ff979",
   "metadata": {},
   "outputs": [],
   "source": [
    "import matplotlib as mpl\n",
    "import matplotlib.pyplot as plt\n",
    "some_digit = X[0]\n",
    "some_digit_image = some_digit.reshape(28, 28)\n",
    "plt.imshow(some_digit_image, cmap = mpl.cm.binary, interpolation=\"nearest\")\n",
    "plt.axis(\"off\")\n",
    "plt.show()"
   ]
  }
 ],
 "metadata": {
  "interpreter": {
   "hash": "3264fe5470fe77ee5260a07c357c21a6bd67d07a2ac4ccd0bd198fb8e1f6e57e"
  },
  "kernelspec": {
   "display_name": "Python [conda env:env-jupyterbook] *",
   "language": "python",
   "name": "conda-env-env-jupyterbook-py"
  },
  "language_info": {
   "codemirror_mode": {
    "name": "ipython",
    "version": 3
   },
   "file_extension": ".py",
   "mimetype": "text/x-python",
   "name": "python",
   "nbconvert_exporter": "python",
   "pygments_lexer": "ipython3",
   "version": "3.9.7"
  }
 },
 "nbformat": 4,
 "nbformat_minor": 5
}
